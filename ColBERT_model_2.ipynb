{
  "nbformat": 4,
  "nbformat_minor": 0,
  "metadata": {
    "kernelspec": {
      "display_name": "Python 3",
      "language": "python",
      "name": "python3"
    },
    "language_info": {
      "codemirror_mode": {
        "name": "ipython",
        "version": 3
      },
      "file_extension": ".py",
      "mimetype": "text/x-python",
      "name": "python",
      "nbconvert_exporter": "python",
      "pygments_lexer": "ipython3",
      "version": "3.7.4"
    },
    "colab": {
      "name": "ColBERT model-2.ipynb",
      "provenance": [],
      "collapsed_sections": [
        "irYj4qeV0OJ2"
      ],
      "include_colab_link": true
    },
    "accelerator": "GPU",
    "widgets": {
      "application/vnd.jupyter.widget-state+json": {
        "221972242596423b83505ac028a1d6fb": {
          "model_module": "@jupyter-widgets/controls",
          "model_name": "HBoxModel",
          "state": {
            "_view_name": "HBoxView",
            "_dom_classes": [],
            "_model_name": "HBoxModel",
            "_view_module": "@jupyter-widgets/controls",
            "_model_module_version": "1.5.0",
            "_view_count": null,
            "_view_module_version": "1.5.0",
            "box_style": "",
            "layout": "IPY_MODEL_e8569135359a41b9b4bb454009e6d834",
            "_model_module": "@jupyter-widgets/controls",
            "children": [
              "IPY_MODEL_98279c7c493b40cd86d8b13025ff8563",
              "IPY_MODEL_e968d2debd434f58933625dd9006b06d"
            ]
          }
        },
        "e8569135359a41b9b4bb454009e6d834": {
          "model_module": "@jupyter-widgets/base",
          "model_name": "LayoutModel",
          "state": {
            "_view_name": "LayoutView",
            "grid_template_rows": null,
            "right": null,
            "justify_content": null,
            "_view_module": "@jupyter-widgets/base",
            "overflow": null,
            "_model_module_version": "1.2.0",
            "_view_count": null,
            "flex_flow": null,
            "width": null,
            "min_width": null,
            "border": null,
            "align_items": null,
            "bottom": null,
            "_model_module": "@jupyter-widgets/base",
            "top": null,
            "grid_column": null,
            "overflow_y": null,
            "overflow_x": null,
            "grid_auto_flow": null,
            "grid_area": null,
            "grid_template_columns": null,
            "flex": null,
            "_model_name": "LayoutModel",
            "justify_items": null,
            "grid_row": null,
            "max_height": null,
            "align_content": null,
            "visibility": null,
            "align_self": null,
            "height": null,
            "min_height": null,
            "padding": null,
            "grid_auto_rows": null,
            "grid_gap": null,
            "max_width": null,
            "order": null,
            "_view_module_version": "1.2.0",
            "grid_template_areas": null,
            "object_position": null,
            "object_fit": null,
            "grid_auto_columns": null,
            "margin": null,
            "display": null,
            "left": null
          }
        },
        "98279c7c493b40cd86d8b13025ff8563": {
          "model_module": "@jupyter-widgets/controls",
          "model_name": "FloatProgressModel",
          "state": {
            "_view_name": "ProgressView",
            "style": "IPY_MODEL_a12607135de7496693ee6f4dbdaf7038",
            "_dom_classes": [],
            "description": "",
            "_model_name": "FloatProgressModel",
            "bar_style": "success",
            "max": 1,
            "_view_module": "@jupyter-widgets/controls",
            "_model_module_version": "1.5.0",
            "value": 1,
            "_view_count": null,
            "_view_module_version": "1.5.0",
            "orientation": "horizontal",
            "min": 0,
            "description_tooltip": null,
            "_model_module": "@jupyter-widgets/controls",
            "layout": "IPY_MODEL_bc4e10999a454cb6a0c14a73bdc5ff1d"
          }
        },
        "e968d2debd434f58933625dd9006b06d": {
          "model_module": "@jupyter-widgets/controls",
          "model_name": "HTMLModel",
          "state": {
            "_view_name": "HTMLView",
            "style": "IPY_MODEL_39adebc978044549911d3b61b897107b",
            "_dom_classes": [],
            "description": "",
            "_model_name": "HTMLModel",
            "placeholder": "​",
            "_view_module": "@jupyter-widgets/controls",
            "_model_module_version": "1.5.0",
            "value": " 33417/? [00:36&lt;00:00, 920.47it/s]",
            "_view_count": null,
            "_view_module_version": "1.5.0",
            "description_tooltip": null,
            "_model_module": "@jupyter-widgets/controls",
            "layout": "IPY_MODEL_202ff08b72824454b0c4bd6f4ab8e371"
          }
        },
        "a12607135de7496693ee6f4dbdaf7038": {
          "model_module": "@jupyter-widgets/controls",
          "model_name": "ProgressStyleModel",
          "state": {
            "_view_name": "StyleView",
            "_model_name": "ProgressStyleModel",
            "description_width": "initial",
            "_view_module": "@jupyter-widgets/base",
            "_model_module_version": "1.5.0",
            "_view_count": null,
            "_view_module_version": "1.2.0",
            "bar_color": null,
            "_model_module": "@jupyter-widgets/controls"
          }
        },
        "bc4e10999a454cb6a0c14a73bdc5ff1d": {
          "model_module": "@jupyter-widgets/base",
          "model_name": "LayoutModel",
          "state": {
            "_view_name": "LayoutView",
            "grid_template_rows": null,
            "right": null,
            "justify_content": null,
            "_view_module": "@jupyter-widgets/base",
            "overflow": null,
            "_model_module_version": "1.2.0",
            "_view_count": null,
            "flex_flow": null,
            "width": null,
            "min_width": null,
            "border": null,
            "align_items": null,
            "bottom": null,
            "_model_module": "@jupyter-widgets/base",
            "top": null,
            "grid_column": null,
            "overflow_y": null,
            "overflow_x": null,
            "grid_auto_flow": null,
            "grid_area": null,
            "grid_template_columns": null,
            "flex": null,
            "_model_name": "LayoutModel",
            "justify_items": null,
            "grid_row": null,
            "max_height": null,
            "align_content": null,
            "visibility": null,
            "align_self": null,
            "height": null,
            "min_height": null,
            "padding": null,
            "grid_auto_rows": null,
            "grid_gap": null,
            "max_width": null,
            "order": null,
            "_view_module_version": "1.2.0",
            "grid_template_areas": null,
            "object_position": null,
            "object_fit": null,
            "grid_auto_columns": null,
            "margin": null,
            "display": null,
            "left": null
          }
        },
        "39adebc978044549911d3b61b897107b": {
          "model_module": "@jupyter-widgets/controls",
          "model_name": "DescriptionStyleModel",
          "state": {
            "_view_name": "StyleView",
            "_model_name": "DescriptionStyleModel",
            "description_width": "",
            "_view_module": "@jupyter-widgets/base",
            "_model_module_version": "1.5.0",
            "_view_count": null,
            "_view_module_version": "1.2.0",
            "_model_module": "@jupyter-widgets/controls"
          }
        },
        "202ff08b72824454b0c4bd6f4ab8e371": {
          "model_module": "@jupyter-widgets/base",
          "model_name": "LayoutModel",
          "state": {
            "_view_name": "LayoutView",
            "grid_template_rows": null,
            "right": null,
            "justify_content": null,
            "_view_module": "@jupyter-widgets/base",
            "overflow": null,
            "_model_module_version": "1.2.0",
            "_view_count": null,
            "flex_flow": null,
            "width": null,
            "min_width": null,
            "border": null,
            "align_items": null,
            "bottom": null,
            "_model_module": "@jupyter-widgets/base",
            "top": null,
            "grid_column": null,
            "overflow_y": null,
            "overflow_x": null,
            "grid_auto_flow": null,
            "grid_area": null,
            "grid_template_columns": null,
            "flex": null,
            "_model_name": "LayoutModel",
            "justify_items": null,
            "grid_row": null,
            "max_height": null,
            "align_content": null,
            "visibility": null,
            "align_self": null,
            "height": null,
            "min_height": null,
            "padding": null,
            "grid_auto_rows": null,
            "grid_gap": null,
            "max_width": null,
            "order": null,
            "_view_module_version": "1.2.0",
            "grid_template_areas": null,
            "object_position": null,
            "object_fit": null,
            "grid_auto_columns": null,
            "margin": null,
            "display": null,
            "left": null
          }
        },
        "527c1a42dfbc4e838eea1b1e59543b8c": {
          "model_module": "@jupyter-widgets/controls",
          "model_name": "HBoxModel",
          "state": {
            "_view_name": "HBoxView",
            "_dom_classes": [],
            "_model_name": "HBoxModel",
            "_view_module": "@jupyter-widgets/controls",
            "_model_module_version": "1.5.0",
            "_view_count": null,
            "_view_module_version": "1.5.0",
            "box_style": "",
            "layout": "IPY_MODEL_5fc28d1a5ac842898819ac688d2fc8c1",
            "_model_module": "@jupyter-widgets/controls",
            "children": [
              "IPY_MODEL_7c453cbb532d488090e003d74d87ebf5",
              "IPY_MODEL_3f3ce42fe7114621bc42364fbfecc266"
            ]
          }
        },
        "5fc28d1a5ac842898819ac688d2fc8c1": {
          "model_module": "@jupyter-widgets/base",
          "model_name": "LayoutModel",
          "state": {
            "_view_name": "LayoutView",
            "grid_template_rows": null,
            "right": null,
            "justify_content": null,
            "_view_module": "@jupyter-widgets/base",
            "overflow": null,
            "_model_module_version": "1.2.0",
            "_view_count": null,
            "flex_flow": null,
            "width": null,
            "min_width": null,
            "border": null,
            "align_items": null,
            "bottom": null,
            "_model_module": "@jupyter-widgets/base",
            "top": null,
            "grid_column": null,
            "overflow_y": null,
            "overflow_x": null,
            "grid_auto_flow": null,
            "grid_area": null,
            "grid_template_columns": null,
            "flex": null,
            "_model_name": "LayoutModel",
            "justify_items": null,
            "grid_row": null,
            "max_height": null,
            "align_content": null,
            "visibility": null,
            "align_self": null,
            "height": null,
            "min_height": null,
            "padding": null,
            "grid_auto_rows": null,
            "grid_gap": null,
            "max_width": null,
            "order": null,
            "_view_module_version": "1.2.0",
            "grid_template_areas": null,
            "object_position": null,
            "object_fit": null,
            "grid_auto_columns": null,
            "margin": null,
            "display": null,
            "left": null
          }
        },
        "7c453cbb532d488090e003d74d87ebf5": {
          "model_module": "@jupyter-widgets/controls",
          "model_name": "FloatProgressModel",
          "state": {
            "_view_name": "ProgressView",
            "style": "IPY_MODEL_2a99c5e941db4521a5b7fb877e41f6c1",
            "_dom_classes": [],
            "description": "",
            "_model_name": "FloatProgressModel",
            "bar_style": "success",
            "max": 1,
            "_view_module": "@jupyter-widgets/controls",
            "_model_module_version": "1.5.0",
            "value": 1,
            "_view_count": null,
            "_view_module_version": "1.5.0",
            "orientation": "horizontal",
            "min": 0,
            "description_tooltip": null,
            "_model_module": "@jupyter-widgets/controls",
            "layout": "IPY_MODEL_fd359193ac34469eac7c73d2ad8a019d"
          }
        },
        "3f3ce42fe7114621bc42364fbfecc266": {
          "model_module": "@jupyter-widgets/controls",
          "model_name": "HTMLModel",
          "state": {
            "_view_name": "HTMLView",
            "style": "IPY_MODEL_8d7017f70fc6465bb966093fc9c3c01b",
            "_dom_classes": [],
            "description": "",
            "_model_name": "HTMLModel",
            "placeholder": "​",
            "_view_module": "@jupyter-widgets/controls",
            "_model_module_version": "1.5.0",
            "value": " 29644/? [06:44&lt;00:00, 73.27it/s]",
            "_view_count": null,
            "_view_module_version": "1.5.0",
            "description_tooltip": null,
            "_model_module": "@jupyter-widgets/controls",
            "layout": "IPY_MODEL_372f5b4cb4604a58a522f34b4a1be51f"
          }
        },
        "2a99c5e941db4521a5b7fb877e41f6c1": {
          "model_module": "@jupyter-widgets/controls",
          "model_name": "ProgressStyleModel",
          "state": {
            "_view_name": "StyleView",
            "_model_name": "ProgressStyleModel",
            "description_width": "initial",
            "_view_module": "@jupyter-widgets/base",
            "_model_module_version": "1.5.0",
            "_view_count": null,
            "_view_module_version": "1.2.0",
            "bar_color": null,
            "_model_module": "@jupyter-widgets/controls"
          }
        },
        "fd359193ac34469eac7c73d2ad8a019d": {
          "model_module": "@jupyter-widgets/base",
          "model_name": "LayoutModel",
          "state": {
            "_view_name": "LayoutView",
            "grid_template_rows": null,
            "right": null,
            "justify_content": null,
            "_view_module": "@jupyter-widgets/base",
            "overflow": null,
            "_model_module_version": "1.2.0",
            "_view_count": null,
            "flex_flow": null,
            "width": null,
            "min_width": null,
            "border": null,
            "align_items": null,
            "bottom": null,
            "_model_module": "@jupyter-widgets/base",
            "top": null,
            "grid_column": null,
            "overflow_y": null,
            "overflow_x": null,
            "grid_auto_flow": null,
            "grid_area": null,
            "grid_template_columns": null,
            "flex": null,
            "_model_name": "LayoutModel",
            "justify_items": null,
            "grid_row": null,
            "max_height": null,
            "align_content": null,
            "visibility": null,
            "align_self": null,
            "height": null,
            "min_height": null,
            "padding": null,
            "grid_auto_rows": null,
            "grid_gap": null,
            "max_width": null,
            "order": null,
            "_view_module_version": "1.2.0",
            "grid_template_areas": null,
            "object_position": null,
            "object_fit": null,
            "grid_auto_columns": null,
            "margin": null,
            "display": null,
            "left": null
          }
        },
        "8d7017f70fc6465bb966093fc9c3c01b": {
          "model_module": "@jupyter-widgets/controls",
          "model_name": "DescriptionStyleModel",
          "state": {
            "_view_name": "StyleView",
            "_model_name": "DescriptionStyleModel",
            "description_width": "",
            "_view_module": "@jupyter-widgets/base",
            "_model_module_version": "1.5.0",
            "_view_count": null,
            "_view_module_version": "1.2.0",
            "_model_module": "@jupyter-widgets/controls"
          }
        },
        "372f5b4cb4604a58a522f34b4a1be51f": {
          "model_module": "@jupyter-widgets/base",
          "model_name": "LayoutModel",
          "state": {
            "_view_name": "LayoutView",
            "grid_template_rows": null,
            "right": null,
            "justify_content": null,
            "_view_module": "@jupyter-widgets/base",
            "overflow": null,
            "_model_module_version": "1.2.0",
            "_view_count": null,
            "flex_flow": null,
            "width": null,
            "min_width": null,
            "border": null,
            "align_items": null,
            "bottom": null,
            "_model_module": "@jupyter-widgets/base",
            "top": null,
            "grid_column": null,
            "overflow_y": null,
            "overflow_x": null,
            "grid_auto_flow": null,
            "grid_area": null,
            "grid_template_columns": null,
            "flex": null,
            "_model_name": "LayoutModel",
            "justify_items": null,
            "grid_row": null,
            "max_height": null,
            "align_content": null,
            "visibility": null,
            "align_self": null,
            "height": null,
            "min_height": null,
            "padding": null,
            "grid_auto_rows": null,
            "grid_gap": null,
            "max_width": null,
            "order": null,
            "_view_module_version": "1.2.0",
            "grid_template_areas": null,
            "object_position": null,
            "object_fit": null,
            "grid_auto_columns": null,
            "margin": null,
            "display": null,
            "left": null
          }
        },
        "f67784d1b8d948d880ebe6f5925734c3": {
          "model_module": "@jupyter-widgets/controls",
          "model_name": "HBoxModel",
          "state": {
            "_view_name": "HBoxView",
            "_dom_classes": [],
            "_model_name": "HBoxModel",
            "_view_module": "@jupyter-widgets/controls",
            "_model_module_version": "1.5.0",
            "_view_count": null,
            "_view_module_version": "1.5.0",
            "box_style": "",
            "layout": "IPY_MODEL_8daed72440604387b6cb8cf121ec2eff",
            "_model_module": "@jupyter-widgets/controls",
            "children": [
              "IPY_MODEL_616c839fc13a45c582faac7ef861a260",
              "IPY_MODEL_4d75b8dbeaa843799350a66f1980b8d9"
            ]
          }
        },
        "8daed72440604387b6cb8cf121ec2eff": {
          "model_module": "@jupyter-widgets/base",
          "model_name": "LayoutModel",
          "state": {
            "_view_name": "LayoutView",
            "grid_template_rows": null,
            "right": null,
            "justify_content": null,
            "_view_module": "@jupyter-widgets/base",
            "overflow": null,
            "_model_module_version": "1.2.0",
            "_view_count": null,
            "flex_flow": null,
            "width": null,
            "min_width": null,
            "border": null,
            "align_items": null,
            "bottom": null,
            "_model_module": "@jupyter-widgets/base",
            "top": null,
            "grid_column": null,
            "overflow_y": null,
            "overflow_x": null,
            "grid_auto_flow": null,
            "grid_area": null,
            "grid_template_columns": null,
            "flex": null,
            "_model_name": "LayoutModel",
            "justify_items": null,
            "grid_row": null,
            "max_height": null,
            "align_content": null,
            "visibility": null,
            "align_self": null,
            "height": null,
            "min_height": null,
            "padding": null,
            "grid_auto_rows": null,
            "grid_gap": null,
            "max_width": null,
            "order": null,
            "_view_module_version": "1.2.0",
            "grid_template_areas": null,
            "object_position": null,
            "object_fit": null,
            "grid_auto_columns": null,
            "margin": null,
            "display": null,
            "left": null
          }
        },
        "616c839fc13a45c582faac7ef861a260": {
          "model_module": "@jupyter-widgets/controls",
          "model_name": "FloatProgressModel",
          "state": {
            "_view_name": "ProgressView",
            "style": "IPY_MODEL_a860db5bc24b41bab38b26295d8bd7c7",
            "_dom_classes": [],
            "description": "",
            "_model_name": "FloatProgressModel",
            "bar_style": "success",
            "max": 1,
            "_view_module": "@jupyter-widgets/controls",
            "_model_module_version": "1.5.0",
            "value": 1,
            "_view_count": null,
            "_view_module_version": "1.5.0",
            "orientation": "horizontal",
            "min": 0,
            "description_tooltip": null,
            "_model_module": "@jupyter-widgets/controls",
            "layout": "IPY_MODEL_0b1681fc1e00462c8e890519d9aba5f0"
          }
        },
        "4d75b8dbeaa843799350a66f1980b8d9": {
          "model_module": "@jupyter-widgets/controls",
          "model_name": "HTMLModel",
          "state": {
            "_view_name": "HTMLView",
            "style": "IPY_MODEL_f8be2fbe3ac142b1ba78f0793e59bf02",
            "_dom_classes": [],
            "description": "",
            "_model_name": "HTMLModel",
            "placeholder": "​",
            "_view_module": "@jupyter-widgets/controls",
            "_model_module_version": "1.5.0",
            "value": " 20000/? [07:20&lt;00:00, 45.39it/s]",
            "_view_count": null,
            "_view_module_version": "1.5.0",
            "description_tooltip": null,
            "_model_module": "@jupyter-widgets/controls",
            "layout": "IPY_MODEL_0d38cdc4cd2049d18d93af322d65a8df"
          }
        },
        "a860db5bc24b41bab38b26295d8bd7c7": {
          "model_module": "@jupyter-widgets/controls",
          "model_name": "ProgressStyleModel",
          "state": {
            "_view_name": "StyleView",
            "_model_name": "ProgressStyleModel",
            "description_width": "initial",
            "_view_module": "@jupyter-widgets/base",
            "_model_module_version": "1.5.0",
            "_view_count": null,
            "_view_module_version": "1.2.0",
            "bar_color": null,
            "_model_module": "@jupyter-widgets/controls"
          }
        },
        "0b1681fc1e00462c8e890519d9aba5f0": {
          "model_module": "@jupyter-widgets/base",
          "model_name": "LayoutModel",
          "state": {
            "_view_name": "LayoutView",
            "grid_template_rows": null,
            "right": null,
            "justify_content": null,
            "_view_module": "@jupyter-widgets/base",
            "overflow": null,
            "_model_module_version": "1.2.0",
            "_view_count": null,
            "flex_flow": null,
            "width": null,
            "min_width": null,
            "border": null,
            "align_items": null,
            "bottom": null,
            "_model_module": "@jupyter-widgets/base",
            "top": null,
            "grid_column": null,
            "overflow_y": null,
            "overflow_x": null,
            "grid_auto_flow": null,
            "grid_area": null,
            "grid_template_columns": null,
            "flex": null,
            "_model_name": "LayoutModel",
            "justify_items": null,
            "grid_row": null,
            "max_height": null,
            "align_content": null,
            "visibility": null,
            "align_self": null,
            "height": null,
            "min_height": null,
            "padding": null,
            "grid_auto_rows": null,
            "grid_gap": null,
            "max_width": null,
            "order": null,
            "_view_module_version": "1.2.0",
            "grid_template_areas": null,
            "object_position": null,
            "object_fit": null,
            "grid_auto_columns": null,
            "margin": null,
            "display": null,
            "left": null
          }
        },
        "f8be2fbe3ac142b1ba78f0793e59bf02": {
          "model_module": "@jupyter-widgets/controls",
          "model_name": "DescriptionStyleModel",
          "state": {
            "_view_name": "StyleView",
            "_model_name": "DescriptionStyleModel",
            "description_width": "",
            "_view_module": "@jupyter-widgets/base",
            "_model_module_version": "1.5.0",
            "_view_count": null,
            "_view_module_version": "1.2.0",
            "_model_module": "@jupyter-widgets/controls"
          }
        },
        "0d38cdc4cd2049d18d93af322d65a8df": {
          "model_module": "@jupyter-widgets/base",
          "model_name": "LayoutModel",
          "state": {
            "_view_name": "LayoutView",
            "grid_template_rows": null,
            "right": null,
            "justify_content": null,
            "_view_module": "@jupyter-widgets/base",
            "overflow": null,
            "_model_module_version": "1.2.0",
            "_view_count": null,
            "flex_flow": null,
            "width": null,
            "min_width": null,
            "border": null,
            "align_items": null,
            "bottom": null,
            "_model_module": "@jupyter-widgets/base",
            "top": null,
            "grid_column": null,
            "overflow_y": null,
            "overflow_x": null,
            "grid_auto_flow": null,
            "grid_area": null,
            "grid_template_columns": null,
            "flex": null,
            "_model_name": "LayoutModel",
            "justify_items": null,
            "grid_row": null,
            "max_height": null,
            "align_content": null,
            "visibility": null,
            "align_self": null,
            "height": null,
            "min_height": null,
            "padding": null,
            "grid_auto_rows": null,
            "grid_gap": null,
            "max_width": null,
            "order": null,
            "_view_module_version": "1.2.0",
            "grid_template_areas": null,
            "object_position": null,
            "object_fit": null,
            "grid_auto_columns": null,
            "margin": null,
            "display": null,
            "left": null
          }
        }
      }
    }
  },
  "cells": [
    {
      "cell_type": "markdown",
      "metadata": {
        "id": "view-in-github",
        "colab_type": "text"
      },
      "source": [
        "<a href=\"https://colab.research.google.com/github/jackphillips96/Personality-and-humor-detection/blob/master/ColBERT_model_2.ipynb\" target=\"_parent\"><img src=\"https://colab.research.google.com/assets/colab-badge.svg\" alt=\"Open In Colab\"/></a>"
      ]
    },
    {
      "cell_type": "code",
      "metadata": {
        "id": "r9xxvEuQ0OJD",
        "colab_type": "code",
        "colab": {
          "base_uri": "https://localhost:8080/",
          "height": 187
        },
        "outputId": "dc6fcfde-8459-482d-ed7e-39ccdc5f8864"
      },
      "source": [
        "import subprocess\n",
        "from ast import literal_eval\n",
        "\n",
        "def run(command):\n",
        "    process = subprocess.Popen(command, shell=True, stdout=subprocess.PIPE)\n",
        "    out, err = process.communicate()\n",
        "    print(out.decode('utf-8').strip())\n",
        "\n",
        "print('# CPU')\n",
        "run('cat /proc/cpuinfo | egrep -m 1 \"^model name\"')\n",
        "run('cat /proc/cpuinfo | egrep -m 1 \"^cpu MHz\"')\n",
        "run('cat /proc/cpuinfo | egrep -m 1 \"^cpu cores\"')\n",
        "\n",
        "print('# RAM')\n",
        "run('cat /proc/meminfo | egrep \"^MemTotal\"')\n",
        "\n",
        "print('# GPU')\n",
        "run('lspci | grep VGA')\n",
        "\n",
        "print('# OS')\n",
        "run('uname -a')"
      ],
      "execution_count": 1,
      "outputs": [
        {
          "output_type": "stream",
          "text": [
            "# CPU\n",
            "model name\t: Intel(R) Xeon(R) CPU @ 2.20GHz\n",
            "cpu MHz\t\t: 2200.000\n",
            "cpu cores\t: 1\n",
            "# RAM\n",
            "MemTotal:       13333556 kB\n",
            "# GPU\n",
            "\n",
            "# OS\n",
            "Linux 9da0fa9f3d5a 4.19.104+ #1 SMP Wed Feb 19 05:26:34 PST 2020 x86_64 x86_64 x86_64 GNU/Linux\n"
          ],
          "name": "stdout"
        }
      ]
    },
    {
      "cell_type": "code",
      "metadata": {
        "id": "hhx-hLh50egm",
        "colab_type": "code",
        "colab": {
          "base_uri": "https://localhost:8080/",
          "height": 615
        },
        "outputId": "c5164900-fde7-482b-bb4f-5304f3d2f02a"
      },
      "source": [
        "#installing packages\n",
        "pip install transformers"
      ],
      "execution_count": 2,
      "outputs": [
        {
          "output_type": "stream",
          "text": [
            "Collecting transformers\n",
            "\u001b[?25l  Downloading https://files.pythonhosted.org/packages/27/3c/91ed8f5c4e7ef3227b4119200fc0ed4b4fd965b1f0172021c25701087825/transformers-3.0.2-py3-none-any.whl (769kB)\n",
            "\r\u001b[K     |▍                               | 10kB 28.1MB/s eta 0:00:01\r\u001b[K     |▉                               | 20kB 2.8MB/s eta 0:00:01\r\u001b[K     |█▎                              | 30kB 3.8MB/s eta 0:00:01\r\u001b[K     |█▊                              | 40kB 4.1MB/s eta 0:00:01\r\u001b[K     |██▏                             | 51kB 3.3MB/s eta 0:00:01\r\u001b[K     |██▋                             | 61kB 3.6MB/s eta 0:00:01\r\u001b[K     |███                             | 71kB 3.9MB/s eta 0:00:01\r\u001b[K     |███▍                            | 81kB 4.3MB/s eta 0:00:01\r\u001b[K     |███▉                            | 92kB 4.7MB/s eta 0:00:01\r\u001b[K     |████▎                           | 102kB 4.5MB/s eta 0:00:01\r\u001b[K     |████▊                           | 112kB 4.5MB/s eta 0:00:01\r\u001b[K     |█████▏                          | 122kB 4.5MB/s eta 0:00:01\r\u001b[K     |█████▌                          | 133kB 4.5MB/s eta 0:00:01\r\u001b[K     |██████                          | 143kB 4.5MB/s eta 0:00:01\r\u001b[K     |██████▍                         | 153kB 4.5MB/s eta 0:00:01\r\u001b[K     |██████▉                         | 163kB 4.5MB/s eta 0:00:01\r\u001b[K     |███████▎                        | 174kB 4.5MB/s eta 0:00:01\r\u001b[K     |███████▊                        | 184kB 4.5MB/s eta 0:00:01\r\u001b[K     |████████                        | 194kB 4.5MB/s eta 0:00:01\r\u001b[K     |████████▌                       | 204kB 4.5MB/s eta 0:00:01\r\u001b[K     |█████████                       | 215kB 4.5MB/s eta 0:00:01\r\u001b[K     |█████████▍                      | 225kB 4.5MB/s eta 0:00:01\r\u001b[K     |█████████▉                      | 235kB 4.5MB/s eta 0:00:01\r\u001b[K     |██████████▎                     | 245kB 4.5MB/s eta 0:00:01\r\u001b[K     |██████████▋                     | 256kB 4.5MB/s eta 0:00:01\r\u001b[K     |███████████                     | 266kB 4.5MB/s eta 0:00:01\r\u001b[K     |███████████▌                    | 276kB 4.5MB/s eta 0:00:01\r\u001b[K     |████████████                    | 286kB 4.5MB/s eta 0:00:01\r\u001b[K     |████████████▍                   | 296kB 4.5MB/s eta 0:00:01\r\u001b[K     |████████████▉                   | 307kB 4.5MB/s eta 0:00:01\r\u001b[K     |█████████████▏                  | 317kB 4.5MB/s eta 0:00:01\r\u001b[K     |█████████████▋                  | 327kB 4.5MB/s eta 0:00:01\r\u001b[K     |██████████████                  | 337kB 4.5MB/s eta 0:00:01\r\u001b[K     |██████████████▌                 | 348kB 4.5MB/s eta 0:00:01\r\u001b[K     |███████████████                 | 358kB 4.5MB/s eta 0:00:01\r\u001b[K     |███████████████▍                | 368kB 4.5MB/s eta 0:00:01\r\u001b[K     |███████████████▊                | 378kB 4.5MB/s eta 0:00:01\r\u001b[K     |████████████████▏               | 389kB 4.5MB/s eta 0:00:01\r\u001b[K     |████████████████▋               | 399kB 4.5MB/s eta 0:00:01\r\u001b[K     |█████████████████               | 409kB 4.5MB/s eta 0:00:01\r\u001b[K     |█████████████████▌              | 419kB 4.5MB/s eta 0:00:01\r\u001b[K     |██████████████████              | 430kB 4.5MB/s eta 0:00:01\r\u001b[K     |██████████████████▎             | 440kB 4.5MB/s eta 0:00:01\r\u001b[K     |██████████████████▊             | 450kB 4.5MB/s eta 0:00:01\r\u001b[K     |███████████████████▏            | 460kB 4.5MB/s eta 0:00:01\r\u001b[K     |███████████████████▋            | 471kB 4.5MB/s eta 0:00:01\r\u001b[K     |████████████████████            | 481kB 4.5MB/s eta 0:00:01\r\u001b[K     |████████████████████▌           | 491kB 4.5MB/s eta 0:00:01\r\u001b[K     |████████████████████▉           | 501kB 4.5MB/s eta 0:00:01\r\u001b[K     |█████████████████████▎          | 512kB 4.5MB/s eta 0:00:01\r\u001b[K     |█████████████████████▊          | 522kB 4.5MB/s eta 0:00:01\r\u001b[K     |██████████████████████▏         | 532kB 4.5MB/s eta 0:00:01\r\u001b[K     |██████████████████████▋         | 542kB 4.5MB/s eta 0:00:01\r\u001b[K     |███████████████████████         | 552kB 4.5MB/s eta 0:00:01\r\u001b[K     |███████████████████████▍        | 563kB 4.5MB/s eta 0:00:01\r\u001b[K     |███████████████████████▉        | 573kB 4.5MB/s eta 0:00:01\r\u001b[K     |████████████████████████▎       | 583kB 4.5MB/s eta 0:00:01\r\u001b[K     |████████████████████████▊       | 593kB 4.5MB/s eta 0:00:01\r\u001b[K     |█████████████████████████▏      | 604kB 4.5MB/s eta 0:00:01\r\u001b[K     |█████████████████████████▋      | 614kB 4.5MB/s eta 0:00:01\r\u001b[K     |██████████████████████████      | 624kB 4.5MB/s eta 0:00:01\r\u001b[K     |██████████████████████████▍     | 634kB 4.5MB/s eta 0:00:01\r\u001b[K     |██████████████████████████▉     | 645kB 4.5MB/s eta 0:00:01\r\u001b[K     |███████████████████████████▎    | 655kB 4.5MB/s eta 0:00:01\r\u001b[K     |███████████████████████████▊    | 665kB 4.5MB/s eta 0:00:01\r\u001b[K     |████████████████████████████▏   | 675kB 4.5MB/s eta 0:00:01\r\u001b[K     |████████████████████████████▌   | 686kB 4.5MB/s eta 0:00:01\r\u001b[K     |█████████████████████████████   | 696kB 4.5MB/s eta 0:00:01\r\u001b[K     |█████████████████████████████▍  | 706kB 4.5MB/s eta 0:00:01\r\u001b[K     |█████████████████████████████▉  | 716kB 4.5MB/s eta 0:00:01\r\u001b[K     |██████████████████████████████▎ | 727kB 4.5MB/s eta 0:00:01\r\u001b[K     |██████████████████████████████▊ | 737kB 4.5MB/s eta 0:00:01\r\u001b[K     |███████████████████████████████ | 747kB 4.5MB/s eta 0:00:01\r\u001b[K     |███████████████████████████████▌| 757kB 4.5MB/s eta 0:00:01\r\u001b[K     |████████████████████████████████| 768kB 4.5MB/s eta 0:00:01\r\u001b[K     |████████████████████████████████| 778kB 4.5MB/s \n",
            "\u001b[?25hRequirement already satisfied: regex!=2019.12.17 in /usr/local/lib/python3.6/dist-packages (from transformers) (2019.12.20)\n",
            "Collecting tokenizers==0.8.1.rc1\n",
            "\u001b[?25l  Downloading https://files.pythonhosted.org/packages/40/d0/30d5f8d221a0ed981a186c8eb986ce1c94e3a6e87f994eae9f4aa5250217/tokenizers-0.8.1rc1-cp36-cp36m-manylinux1_x86_64.whl (3.0MB)\n",
            "\u001b[K     |████████████████████████████████| 3.0MB 19.7MB/s \n",
            "\u001b[?25hRequirement already satisfied: packaging in /usr/local/lib/python3.6/dist-packages (from transformers) (20.4)\n",
            "Collecting sentencepiece!=0.1.92\n",
            "\u001b[?25l  Downloading https://files.pythonhosted.org/packages/d4/a4/d0a884c4300004a78cca907a6ff9a5e9fe4f090f5d95ab341c53d28cbc58/sentencepiece-0.1.91-cp36-cp36m-manylinux1_x86_64.whl (1.1MB)\n",
            "\u001b[K     |████████████████████████████████| 1.1MB 54.4MB/s \n",
            "\u001b[?25hRequirement already satisfied: dataclasses; python_version < \"3.7\" in /usr/local/lib/python3.6/dist-packages (from transformers) (0.7)\n",
            "Requirement already satisfied: numpy in /usr/local/lib/python3.6/dist-packages (from transformers) (1.18.5)\n",
            "Requirement already satisfied: filelock in /usr/local/lib/python3.6/dist-packages (from transformers) (3.0.12)\n",
            "Requirement already satisfied: tqdm>=4.27 in /usr/local/lib/python3.6/dist-packages (from transformers) (4.41.1)\n",
            "Requirement already satisfied: requests in /usr/local/lib/python3.6/dist-packages (from transformers) (2.23.0)\n",
            "Collecting sacremoses\n",
            "\u001b[?25l  Downloading https://files.pythonhosted.org/packages/7d/34/09d19aff26edcc8eb2a01bed8e98f13a1537005d31e95233fd48216eed10/sacremoses-0.0.43.tar.gz (883kB)\n",
            "\u001b[K     |████████████████████████████████| 890kB 54.0MB/s \n",
            "\u001b[?25hRequirement already satisfied: pyparsing>=2.0.2 in /usr/local/lib/python3.6/dist-packages (from packaging->transformers) (2.4.7)\n",
            "Requirement already satisfied: six in /usr/local/lib/python3.6/dist-packages (from packaging->transformers) (1.15.0)\n",
            "Requirement already satisfied: idna<3,>=2.5 in /usr/local/lib/python3.6/dist-packages (from requests->transformers) (2.10)\n",
            "Requirement already satisfied: urllib3!=1.25.0,!=1.25.1,<1.26,>=1.21.1 in /usr/local/lib/python3.6/dist-packages (from requests->transformers) (1.24.3)\n",
            "Requirement already satisfied: chardet<4,>=3.0.2 in /usr/local/lib/python3.6/dist-packages (from requests->transformers) (3.0.4)\n",
            "Requirement already satisfied: certifi>=2017.4.17 in /usr/local/lib/python3.6/dist-packages (from requests->transformers) (2020.6.20)\n",
            "Requirement already satisfied: click in /usr/local/lib/python3.6/dist-packages (from sacremoses->transformers) (7.1.2)\n",
            "Requirement already satisfied: joblib in /usr/local/lib/python3.6/dist-packages (from sacremoses->transformers) (0.16.0)\n",
            "Building wheels for collected packages: sacremoses\n",
            "  Building wheel for sacremoses (setup.py) ... \u001b[?25l\u001b[?25hdone\n",
            "  Created wheel for sacremoses: filename=sacremoses-0.0.43-cp36-none-any.whl size=893260 sha256=e93f4e50a2cd38eb031452a33e0cfa5a0402b3abf26ea16cca4ea1b9e1788ece\n",
            "  Stored in directory: /root/.cache/pip/wheels/29/3c/fd/7ce5c3f0666dab31a50123635e6fb5e19ceb42ce38d4e58f45\n",
            "Successfully built sacremoses\n",
            "Installing collected packages: tokenizers, sentencepiece, sacremoses, transformers\n",
            "Successfully installed sacremoses-0.0.43 sentencepiece-0.1.91 tokenizers-0.8.1rc1 transformers-3.0.2\n"
          ],
          "name": "stdout"
        }
      ]
    },
    {
      "cell_type": "code",
      "metadata": {
        "scrolled": true,
        "id": "yxc8kBzV0OJK",
        "colab_type": "code",
        "colab": {
          "base_uri": "https://localhost:8080/",
          "height": 88
        },
        "outputId": "921a8cd6-d5a7-43f4-fa9e-9b3ad7610014"
      },
      "source": [
        "import pandas as pd\n",
        "import numpy as np\n",
        "import sklearn\n",
        "from sklearn.model_selection import GroupKFold\n",
        "import matplotlib.pyplot as plt\n",
        "from tqdm.notebook import tqdm\n",
        "# import tensorflow_hub as hub\n",
        "import tensorflow as tf\n",
        "# import bert_tokenization as tokenization\n",
        "import tensorflow.keras.backend as K\n",
        "import os\n",
        "from scipy.stats import spearmanr\n",
        "from math import floor, ceil\n",
        "from transformers import *\n",
        "from transformers import TFBertModel\n",
        "\n",
        "\n",
        "import seaborn as sns\n",
        "import string\n",
        "import re    #for regex\n",
        "\n",
        "np.set_printoptions(suppress=True)\n",
        "print(tf.__version__)"
      ],
      "execution_count": 3,
      "outputs": [
        {
          "output_type": "stream",
          "text": [
            "2.3.0\n"
          ],
          "name": "stdout"
        },
        {
          "output_type": "stream",
          "text": [
            "/usr/local/lib/python3.6/dist-packages/statsmodels/tools/_testing.py:19: FutureWarning: pandas.util.testing is deprecated. Use the functions in the public API at pandas.testing instead.\n",
            "  import pandas.util.testing as tm\n"
          ],
          "name": "stderr"
        }
      ]
    },
    {
      "cell_type": "code",
      "metadata": {
        "id": "UHcSYlVS0OJO",
        "colab_type": "code",
        "colab": {}
      },
      "source": [
        "#pip install -U tensorflow"
      ],
      "execution_count": null,
      "outputs": []
    },
    {
      "cell_type": "markdown",
      "metadata": {
        "id": "45Tzn4hf0OJR",
        "colab_type": "text"
      },
      "source": [
        "# Choose model"
      ]
    },
    {
      "cell_type": "code",
      "metadata": {
        "id": "bx2b4Jm80OJS",
        "colab_type": "code",
        "colab": {}
      },
      "source": [
        "from transformers import BertTokenizer, BertModel\n",
        "\n",
        "\n",
        "MODEL_TYPE = 'bert-base-uncased'\n",
        "MAX_SIZE = 200\n",
        "BATCH_SIZE = 200\n",
        "\n",
        "tokenizer = BertTokenizer.from_pretrained(MODEL_TYPE)"
      ],
      "execution_count": 58,
      "outputs": []
    },
    {
      "cell_type": "markdown",
      "metadata": {
        "id": "hVyRUIa80OJU",
        "colab_type": "text"
      },
      "source": [
        "#### 1. Read data and tokenizer\n",
        "\n",
        "Read tokenizer and data, as well as defining the maximum sequence length that will be used for the input to Bert (maximum is usually 512 tokens)"
      ]
    },
    {
      "cell_type": "code",
      "metadata": {
        "id": "YJABZJkt0OJV",
        "colab_type": "code",
        "colab": {}
      },
      "source": [
        "HAS_ANS = False\n",
        "training_sample_count = 44000\n",
        "training_epochs = 1\n",
        "test_count = 1000\n",
        "running_folds = 1\n",
        "MAX_SEQUENCE_LENGTH = 200"
      ],
      "execution_count": 48,
      "outputs": []
    },
    {
      "cell_type": "markdown",
      "metadata": {
        "id": "Ozrkxn7a0OJd",
        "colab_type": "text"
      },
      "source": [
        "### original dataset"
      ]
    },
    {
      "cell_type": "code",
      "metadata": {
        "id": "5rivB-2R0OJe",
        "colab_type": "code",
        "colab": {}
      },
      "source": [
        "#Modified training data\n",
        "\n",
        "joke_wiki= pd.read_csv(\"https://raw.githubusercontent.com/jackphillips96/Data/master/joke_wiki.csv\")\n",
        "joke_wiki=joke_wiki.drop(columns=['Unnamed: 0'])\n",
        "\n",
        "azn= pd.read_csv(\"https://raw.githubusercontent.com/jackphillips96/Data/master/azn.csv\")\n",
        "azn=azn.drop(columns=['Unnamed: 0'])\n",
        "\n",
        "az= pd.read_csv(\"https://raw.githubusercontent.com/jackphillips96/Data/master/az.csv\")\n",
        "az=az.drop(columns=['Unnamed: 0'])\n",
        "\n",
        "azn.columns=['text','humor']\n",
        "az.columns=['text','humor']\n",
        "\n",
        "#stupid= pd.read_json(\"https://raw.githubusercontent.com/taivop/joke-dataset/master/stupidstuff.json\")\n",
        "#stupid=stupid.drop(columns=['category','id','rating'])\n",
        "#stupid['humor']=True\n",
        "#stupid.columns=['text','humor']\n",
        "\n",
        "#wocka= pd.read_json(\"https://raw.githubusercontent.com/taivop/joke-dataset/master/wocka.json\")\n",
        "#wocka=wocka.drop(columns=['category','id','title'])\n",
        "#wocka['humor']=True\n",
        "#wocka.columns=['text','humor']\n",
        "\n",
        "frames=[az,azn,joke_wiki]\n",
        "df_train=pd.concat(frames)\n",
        "\n"
      ],
      "execution_count": 57,
      "outputs": []
    },
    {
      "cell_type": "code",
      "metadata": {
        "id": "HlqaZrje3EsH",
        "colab_type": "code",
        "colab": {
          "base_uri": "https://localhost:8080/",
          "height": 204
        },
        "outputId": "58141e55-5286-4599-b2fa-d125d6c3cb3a"
      },
      "source": [
        "wocka.head()"
      ],
      "execution_count": 45,
      "outputs": [
        {
          "output_type": "execute_result",
          "data": {
            "text/html": [
              "<div>\n",
              "<style scoped>\n",
              "    .dataframe tbody tr th:only-of-type {\n",
              "        vertical-align: middle;\n",
              "    }\n",
              "\n",
              "    .dataframe tbody tr th {\n",
              "        vertical-align: top;\n",
              "    }\n",
              "\n",
              "    .dataframe thead th {\n",
              "        text-align: right;\n",
              "    }\n",
              "</style>\n",
              "<table border=\"1\" class=\"dataframe\">\n",
              "  <thead>\n",
              "    <tr style=\"text-align: right;\">\n",
              "      <th></th>\n",
              "      <th>text</th>\n",
              "      <th>humor</th>\n",
              "    </tr>\n",
              "  </thead>\n",
              "  <tbody>\n",
              "    <tr>\n",
              "      <th>0</th>\n",
              "      <td>What do you call a cow with no legs?\\r\\n\\r\\nGr...</td>\n",
              "      <td>True</td>\n",
              "    </tr>\n",
              "    <tr>\n",
              "      <th>1</th>\n",
              "      <td>What do you call a cow jumping over a barbed w...</td>\n",
              "      <td>True</td>\n",
              "    </tr>\n",
              "    <tr>\n",
              "      <th>2</th>\n",
              "      <td>What's black and white and red all over?\\r\\n\\r...</td>\n",
              "      <td>True</td>\n",
              "    </tr>\n",
              "    <tr>\n",
              "      <th>3</th>\n",
              "      <td>So, this guy walks into a bar.\\r\\n\\r\\nAnd says...</td>\n",
              "      <td>True</td>\n",
              "    </tr>\n",
              "    <tr>\n",
              "      <th>4</th>\n",
              "      <td>If the opposite of pro is con, isn't the oppos...</td>\n",
              "      <td>True</td>\n",
              "    </tr>\n",
              "  </tbody>\n",
              "</table>\n",
              "</div>"
            ],
            "text/plain": [
              "                                                text  humor\n",
              "0  What do you call a cow with no legs?\\r\\n\\r\\nGr...   True\n",
              "1  What do you call a cow jumping over a barbed w...   True\n",
              "2  What's black and white and red all over?\\r\\n\\r...   True\n",
              "3  So, this guy walks into a bar.\\r\\n\\r\\nAnd says...   True\n",
              "4  If the opposite of pro is con, isn't the oppos...   True"
            ]
          },
          "metadata": {
            "tags": []
          },
          "execution_count": 45
        }
      ]
    },
    {
      "cell_type": "code",
      "metadata": {
        "id": "ieCw96Rk25ff",
        "colab_type": "code",
        "colab": {}
      },
      "source": [
        ""
      ],
      "execution_count": 39,
      "outputs": []
    },
    {
      "cell_type": "code",
      "metadata": {
        "id": "aD4lD0XA0OJr",
        "colab_type": "code",
        "colab": {
          "base_uri": "https://localhost:8080/",
          "height": 170
        },
        "outputId": "ac855e73-211b-4f6b-f492-35051af1f297"
      },
      "source": [
        "df_train.info()"
      ],
      "execution_count": 63,
      "outputs": [
        {
          "output_type": "stream",
          "text": [
            "<class 'pandas.core.frame.DataFrame'>\n",
            "Int64Index: 33417 entries, 0 to 3772\n",
            "Data columns (total 2 columns):\n",
            " #   Column  Non-Null Count  Dtype \n",
            "---  ------  --------------  ----- \n",
            " 0   text    33417 non-null  object\n",
            " 1   humor   33417 non-null  bool  \n",
            "dtypes: bool(1), object(1)\n",
            "memory usage: 554.8+ KB\n"
          ],
          "name": "stdout"
        }
      ]
    },
    {
      "cell_type": "code",
      "metadata": {
        "id": "1RmAgC000OJt",
        "colab_type": "code",
        "colab": {
          "base_uri": "https://localhost:8080/",
          "height": 142
        },
        "outputId": "6ff40e03-7082-4fa8-f23b-fa094f340204"
      },
      "source": [
        "#df = pd.read_csv('/Users/jackphillips/Desktop/root/data_humor/dataset.csv')\n",
        "#new training data\n",
        "#df_train2 = pd.read_csv('/Users/jackphillips/Desktop/root/data_humor/train.csv')\n",
        "#df_train = pd.read_csv('/Users/jackphillips/Documents/joke_wiki2.csv')\n",
        "#df_train = pd.read_csv('/Users/jackphillips/Documents/wiki.csv')\n",
        "#df_train=df_train.drop(columns=['Unnamed: 0'])\n",
        "df_train=df_train.sample(frac=1)\n",
        "#frames=[df_train2,df_train]\n",
        "#df_train=pd.concat(frames)\n",
        "display(df_train.head(3))\n",
        "#df_train = df_train[:training_sample_count*5]\n",
        "\n",
        "#df_test = pd.read_csv('/Users/jackphillips/Desktop/root/data_humor/dev.csv')\n",
        "#display(df_test.head(3))\n",
        "#df_test = df_test[:test_count]\n",
        "\n"
      ],
      "execution_count": 49,
      "outputs": [
        {
          "output_type": "display_data",
          "data": {
            "text/html": [
              "<div>\n",
              "<style scoped>\n",
              "    .dataframe tbody tr th:only-of-type {\n",
              "        vertical-align: middle;\n",
              "    }\n",
              "\n",
              "    .dataframe tbody tr th {\n",
              "        vertical-align: top;\n",
              "    }\n",
              "\n",
              "    .dataframe thead th {\n",
              "        text-align: right;\n",
              "    }\n",
              "</style>\n",
              "<table border=\"1\" class=\"dataframe\">\n",
              "  <thead>\n",
              "    <tr style=\"text-align: right;\">\n",
              "      <th></th>\n",
              "      <th>text</th>\n",
              "      <th>humor</th>\n",
              "    </tr>\n",
              "  </thead>\n",
              "  <tbody>\n",
              "    <tr>\n",
              "      <th>3928</th>\n",
              "      <td>Is there a right side up or can it be used eit...</td>\n",
              "      <td>False</td>\n",
              "    </tr>\n",
              "    <tr>\n",
              "      <th>7212</th>\n",
              "      <td>I've been diagnosed with agoraphobia. Get in!</td>\n",
              "      <td>True</td>\n",
              "    </tr>\n",
              "    <tr>\n",
              "      <th>7764</th>\n",
              "      <td>Hi I would like to know if the price is for bo...</td>\n",
              "      <td>False</td>\n",
              "    </tr>\n",
              "  </tbody>\n",
              "</table>\n",
              "</div>"
            ],
            "text/plain": [
              "                                                   text  humor\n",
              "3928  Is there a right side up or can it be used eit...  False\n",
              "7212      I've been diagnosed with agoraphobia. Get in!   True\n",
              "7764  Hi I would like to know if the price is for bo...  False"
            ]
          },
          "metadata": {
            "tags": []
          }
        }
      ]
    },
    {
      "cell_type": "code",
      "metadata": {
        "id": "PhAJfeci0OJy",
        "colab_type": "code",
        "colab": {
          "base_uri": "https://localhost:8080/",
          "height": 34
        },
        "outputId": "db68e958-7192-4023-8dca-ec2cd5a9c124"
      },
      "source": [
        "print(list(df_train.columns))"
      ],
      "execution_count": 51,
      "outputs": [
        {
          "output_type": "stream",
          "text": [
            "['text', 'humor']\n"
          ],
          "name": "stdout"
        }
      ]
    },
    {
      "cell_type": "code",
      "metadata": {
        "id": "78EHpwB10OJ0",
        "colab_type": "code",
        "colab": {
          "base_uri": "https://localhost:8080/",
          "height": 170
        },
        "outputId": "751643cb-0ead-4a47-872d-cdede4473758"
      },
      "source": [
        "output_categories = list(df_train.columns[[1]])\n",
        "input_categories = list(df_train.columns[[0]])\n",
        "\n",
        "if HAS_ANS:\n",
        "    output_categories = list(df_train.columns[11:])\n",
        "    input_categories = list(df_train.columns[[1,2,5]])\n",
        "    \n",
        "\n",
        "TARGET_COUNT = len(output_categories)\n",
        "\n",
        "print('\\ninput categories:\\n\\t', input_categories)\n",
        "print('\\noutput TARGET_COUNT:\\n\\t', TARGET_COUNT)\n",
        "print('\\noutput categories:\\n\\t', output_categories)"
      ],
      "execution_count": 50,
      "outputs": [
        {
          "output_type": "stream",
          "text": [
            "\n",
            "input categories:\n",
            "\t ['text']\n",
            "\n",
            "output TARGET_COUNT:\n",
            "\t 1\n",
            "\n",
            "output categories:\n",
            "\t ['humor']\n"
          ],
          "name": "stdout"
        }
      ]
    },
    {
      "cell_type": "code",
      "metadata": {
        "id": "FBulR46c0_vJ",
        "colab_type": "code",
        "colab": {}
      },
      "source": [
        "def _convert_to_transformer_inputs(title, question, answer, tokenizer, max_sequence_length,truncation=True):\n",
        "    \"\"\"Converts tokenized input to ids, masks and segments for transformer (including bert)\"\"\"\n",
        "    \n",
        "    def return_id(str1, str2, truncation_strategy, length,truncation=True):\n",
        "\n",
        "        inputs = tokenizer.encode_plus(str1, str2,\n",
        "            add_special_tokens=True,\n",
        "            max_length=length,\n",
        "            truncation_strategy=truncation_strategy)\n",
        "        \n",
        "        input_ids =  inputs[\"input_ids\"]\n",
        "        input_masks = [1] * len(input_ids)\n",
        "        input_segments = inputs[\"token_type_ids\"]\n",
        "        padding_length = length - len(input_ids)\n",
        "        padding_id = tokenizer.pad_token_id\n",
        "        input_ids = input_ids + ([padding_id] * padding_length)\n",
        "        input_masks = input_masks + ([0] * padding_length)\n",
        "        input_segments = input_segments + ([0] * padding_length)\n",
        "        \n",
        "        return [input_ids, input_masks, input_segments]\n",
        "    \n",
        "    input_ids_q, input_masks_q, input_segments_q = return_id(\n",
        "        title, None, 'longest_first', max_sequence_length)\n",
        "    \n",
        "    input_ids_a, input_masks_a, input_segments_a = return_id(\n",
        "        '', None, 'longest_first', max_sequence_length)\n",
        "        \n",
        "    return [input_ids_q, input_masks_q, input_segments_q,\n",
        "            input_ids_a, input_masks_a, input_segments_a]\n",
        "\n",
        "def compute_input_arrays(df, columns, tokenizer, max_sequence_length,truncation=True):\n",
        "    input_ids_q, input_masks_q, input_segments_q = [], [], []\n",
        "    input_ids_a, input_masks_a, input_segments_a = [], [], []\n",
        "    for _, instance in tqdm(df[columns].iterrows()):\n",
        "        t, q, a = instance.text, instance.text, instance.text\n",
        "\n",
        "        ids_q, masks_q, segments_q, ids_a, masks_a, segments_a = \\\n",
        "        _convert_to_transformer_inputs(t, q, a, tokenizer, max_sequence_length)\n",
        "        \n",
        "        input_ids_q.append(ids_q)\n",
        "        input_masks_q.append(masks_q)\n",
        "        input_segments_q.append(segments_q)\n",
        "        input_ids_a.append(ids_a)\n",
        "        input_masks_a.append(masks_a)\n",
        "        input_segments_a.append(segments_a)\n",
        "        \n",
        "    return [np.asarray(input_ids_q, dtype=np.int32), \n",
        "            np.asarray(input_masks_q, dtype=np.int32), \n",
        "            np.asarray(input_segments_q, dtype=np.int32),\n",
        "            np.asarray(input_ids_a, dtype=np.int32), \n",
        "            np.asarray(input_masks_a, dtype=np.int32), \n",
        "            np.asarray(input_segments_a, dtype=np.int32)]\n",
        "\n",
        "def compute_output_arrays(df, columns,truncation=True):\n",
        "    return np.asarray(df[columns])"
      ],
      "execution_count": 52,
      "outputs": []
    },
    {
      "cell_type": "code",
      "metadata": {
        "id": "eoRsruFav6KH",
        "colab_type": "code",
        "colab": {}
      },
      "source": [
        "import logging\n",
        "logging.basicConfig(level=logging.ERROR)"
      ],
      "execution_count": 13,
      "outputs": []
    },
    {
      "cell_type": "code",
      "metadata": {
        "id": "wbaVjiSe1GFQ",
        "colab_type": "code",
        "colab": {
          "base_uri": "https://localhost:8080/",
          "height": 66,
          "referenced_widgets": [
            "221972242596423b83505ac028a1d6fb",
            "e8569135359a41b9b4bb454009e6d834",
            "98279c7c493b40cd86d8b13025ff8563",
            "e968d2debd434f58933625dd9006b06d",
            "a12607135de7496693ee6f4dbdaf7038",
            "bc4e10999a454cb6a0c14a73bdc5ff1d",
            "39adebc978044549911d3b61b897107b",
            "202ff08b72824454b0c4bd6f4ab8e371"
          ]
        },
        "outputId": "951bb532-b2d0-4233-f70c-f49c02fea488"
      },
      "source": [
        "#greyed out is origional and last is new data\n",
        "outputs = compute_output_arrays(df_train, output_categories)\n",
        "inputs = compute_input_arrays(df_train, input_categories, tokenizer, MAX_SEQUENCE_LENGTH)\n",
        "#test_inputs = compute_input_arrays(df_test, input_categories, tokenizer, MAX_SEQUENCE_LENGTH)\n",
        "#test_inputs = compute_input_arrays(df_small, input_categories, tokenizer, MAX_SEQUENCE_LENGTH)"
      ],
      "execution_count": 59,
      "outputs": [
        {
          "output_type": "display_data",
          "data": {
            "application/vnd.jupyter.widget-view+json": {
              "model_id": "221972242596423b83505ac028a1d6fb",
              "version_minor": 0,
              "version_major": 2
            },
            "text/plain": [
              "HBox(children=(FloatProgress(value=1.0, bar_style='info', max=1.0), HTML(value='')))"
            ]
          },
          "metadata": {
            "tags": []
          }
        },
        {
          "output_type": "stream",
          "text": [
            "\n"
          ],
          "name": "stdout"
        }
      ]
    },
    {
      "cell_type": "markdown",
      "metadata": {
        "id": "irYj4qeV0OJ2",
        "colab_type": "raw"
      },
      "source": [
        "#### 2. Preprocessing functions\n",
        "\n",
        "These are some functions that will be used to preprocess the raw text data into useable Bert inputs.<br>\n",
        "\n",
        "*update 4:* credits to [Minh](https://www.kaggle.com/dathudeptrai) for this implementation. If I'm not mistaken, it could be used directly with other Huggingface transformers too! Note that due to the 2 x 512 input, it will require significantly more memory when finetuning BERT."
      ]
    },
    {
      "cell_type": "code",
      "metadata": {
        "id": "mhXJP2HL0OJ2",
        "colab_type": "code",
        "colab": {}
      },
      "source": [
        "def _convert_to_transformer_inputs(title, question, answer, tokenizer, max_sequence_length):\n",
        "    \"\"\"Converts tokenized input to ids, masks and segments for transformer (including bert)\"\"\"\n",
        "    \n",
        "    def return_id(str1, str2, truncation_strategy, length):\n",
        "\n",
        "        inputs = tokenizer.encode_plus(str1, str2,\n",
        "            add_special_tokens=True,\n",
        "            max_length=length,\n",
        "            truncation_strategy=truncation_strategy)\n",
        "        \n",
        "        input_ids =  inputs[\"input_ids\"]\n",
        "        input_masks = [1] * len(input_ids)\n",
        "        input_segments = inputs[\"token_type_ids\"]\n",
        "        padding_length = length - len(input_ids)\n",
        "        padding_id = tokenizer.pad_token_id\n",
        "        input_ids = input_ids + ([padding_id] * padding_length)\n",
        "        input_masks = input_masks + ([0] * padding_length)\n",
        "        input_segments = input_segments + ([0] * padding_length)\n",
        "        \n",
        "        return [input_ids, input_masks, input_segments]\n",
        "    \n",
        "    input_ids_q, input_masks_q, input_segments_q = return_id(\n",
        "        title, None, 'longest_first', max_sequence_length)\n",
        "    \n",
        "    input_ids_a, input_masks_a, input_segments_a = return_id(\n",
        "        '', None, 'longest_first', max_sequence_length)\n",
        "        \n",
        "    return [input_ids_q, input_masks_q, input_segments_q,\n",
        "            input_ids_a, input_masks_a, input_segments_a]\n",
        "\n",
        "def compute_input_arrays(df, columns, tokenizer, max_sequence_length):\n",
        "    input_ids_q, input_masks_q, input_segments_q = [], [], []\n",
        "    input_ids_a, input_masks_a, input_segments_a = [], [], []\n",
        "    for _, instance in tqdm(df[columns].iterrows()):\n",
        "        t, q, a = instance.text, instance.text, instance.text\n",
        "\n",
        "        ids_q, masks_q, segments_q, ids_a, masks_a, segments_a = \\\n",
        "        _convert_to_transformer_inputs(t, q, a, tokenizer, max_sequence_length)\n",
        "        \n",
        "        input_ids_q.append(ids_q)\n",
        "        input_masks_q.append(masks_q)\n",
        "        input_segments_q.append(segments_q)\n",
        "        input_ids_a.append(ids_a)\n",
        "        input_masks_a.append(masks_a)\n",
        "        input_segments_a.append(segments_a)\n",
        "        \n",
        "    return [np.asarray(input_ids_q, dtype=np.int32), \n",
        "            np.asarray(input_masks_q, dtype=np.int32), \n",
        "            np.asarray(input_segments_q, dtype=np.int32),\n",
        "            np.asarray(input_ids_a, dtype=np.int32), \n",
        "            np.asarray(input_masks_a, dtype=np.int32), \n",
        "            np.asarray(input_segments_a, dtype=np.int32)]\n",
        "\n",
        "def compute_output_arrays(df, columns):\n",
        "    return np.asarray(df[columns])"
      ],
      "execution_count": null,
      "outputs": []
    },
    {
      "cell_type": "code",
      "metadata": {
        "id": "zB3FopXp0OJ3",
        "colab_type": "code",
        "colab": {
          "base_uri": "https://localhost:8080/",
          "height": 1000,
          "referenced_widgets": [
            "527c1a42dfbc4e838eea1b1e59543b8c",
            "5fc28d1a5ac842898819ac688d2fc8c1",
            "7c453cbb532d488090e003d74d87ebf5",
            "3f3ce42fe7114621bc42364fbfecc266",
            "2a99c5e941db4521a5b7fb877e41f6c1",
            "fd359193ac34469eac7c73d2ad8a019d",
            "8d7017f70fc6465bb966093fc9c3c01b",
            "372f5b4cb4604a58a522f34b4a1be51f"
          ]
        },
        "outputId": "956c402d-e5d9-407c-9ece-d9a3c8fae6cb"
      },
      "source": [
        "#greyed out is origional and last is new data\n",
        "outputs = compute_output_arrays(df_train, output_categories)\n",
        "inputs = compute_input_arrays(df_train, input_categories, tokenizer, MAX_SEQUENCE_LENGTH)\n",
        "#test_inputs = compute_input_arrays(df_test, input_categories, tokenizer, MAX_SEQUENCE_LENGTH)\n",
        "test_inputs = compute_input_arrays(df_small, input_categories, tokenizer, MAX_SEQUENCE_LENGTH)\n",
        "\n"
      ],
      "execution_count": null,
      "outputs": [
        {
          "output_type": "display_data",
          "data": {
            "application/vnd.jupyter.widget-view+json": {
              "model_id": "527c1a42dfbc4e838eea1b1e59543b8c",
              "version_minor": 0,
              "version_major": 2
            },
            "text/plain": [
              "HBox(children=(FloatProgress(value=1.0, bar_style='info', max=1.0), HTML(value='')))"
            ]
          },
          "metadata": {
            "tags": []
          }
        },
        {
          "output_type": "stream",
          "text": [
            "\n"
          ],
          "name": "stdout"
        },
        {
          "output_type": "error",
          "ename": "NameError",
          "evalue": "ignored",
          "traceback": [
            "\u001b[0;31m---------------------------------------------------------------------------\u001b[0m",
            "\u001b[0;31mNameError\u001b[0m                                 Traceback (most recent call last)",
            "\u001b[0;32m<ipython-input-27-7ce05b852702>\u001b[0m in \u001b[0;36m<module>\u001b[0;34m()\u001b[0m\n\u001b[1;32m      3\u001b[0m \u001b[0minputs\u001b[0m \u001b[0;34m=\u001b[0m \u001b[0mcompute_input_arrays\u001b[0m\u001b[0;34m(\u001b[0m\u001b[0mdf_train\u001b[0m\u001b[0;34m,\u001b[0m \u001b[0minput_categories\u001b[0m\u001b[0;34m,\u001b[0m \u001b[0mtokenizer\u001b[0m\u001b[0;34m,\u001b[0m \u001b[0mMAX_SEQUENCE_LENGTH\u001b[0m\u001b[0;34m)\u001b[0m\u001b[0;34m\u001b[0m\u001b[0;34m\u001b[0m\u001b[0m\n\u001b[1;32m      4\u001b[0m \u001b[0;31m#test_inputs = compute_input_arrays(df_test, input_categories, tokenizer, MAX_SEQUENCE_LENGTH)\u001b[0m\u001b[0;34m\u001b[0m\u001b[0;34m\u001b[0m\u001b[0;34m\u001b[0m\u001b[0m\n\u001b[0;32m----> 5\u001b[0;31m \u001b[0mtest_inputs\u001b[0m \u001b[0;34m=\u001b[0m \u001b[0mcompute_input_arrays\u001b[0m\u001b[0;34m(\u001b[0m\u001b[0mdf_small\u001b[0m\u001b[0;34m,\u001b[0m \u001b[0minput_categories\u001b[0m\u001b[0;34m,\u001b[0m \u001b[0mtokenizer\u001b[0m\u001b[0;34m,\u001b[0m \u001b[0mMAX_SEQUENCE_LENGTH\u001b[0m\u001b[0;34m)\u001b[0m\u001b[0;34m\u001b[0m\u001b[0;34m\u001b[0m\u001b[0m\n\u001b[0m\u001b[1;32m      6\u001b[0m \u001b[0;34m\u001b[0m\u001b[0m\n",
            "\u001b[0;31mNameError\u001b[0m: name 'df_small' is not defined"
          ]
        }
      ]
    },
    {
      "cell_type": "markdown",
      "metadata": {
        "id": "DDzMlYfv0OJ5",
        "colab_type": "text"
      },
      "source": [
        "## 3. Create model\n",
        "\n",
        "~~`compute_spearmanr()`~~ `mean_squared_error` is used to compute the competition metric for the validation set\n",
        "<br><br>\n",
        "`create_model()` contains the actual architecture that will be used to finetune BERT to our dataset.\n"
      ]
    },
    {
      "cell_type": "code",
      "metadata": {
        "id": "ZyENYgCk0OJ5",
        "colab_type": "code",
        "colab": {}
      },
      "source": [
        "def compute_spearmanr_ignore_nan(trues, preds):\n",
        "    rhos = []\n",
        "    for tcol, pcol in zip(np.transpose(trues), np.transpose(preds)):\n",
        "        rhos.append(spearmanr(tcol, pcol).correlation)\n",
        "    return np.nanmean(rhos)\n",
        "\n",
        "def create_model():\n",
        "    q_id = tf.keras.layers.Input((MAX_SEQUENCE_LENGTH,), dtype=tf.int32)\n",
        "    a_id = tf.keras.layers.Input((MAX_SEQUENCE_LENGTH,), dtype=tf.int32)\n",
        "    \n",
        "    q_mask = tf.keras.layers.Input((MAX_SEQUENCE_LENGTH,), dtype=tf.int32)\n",
        "    a_mask = tf.keras.layers.Input((MAX_SEQUENCE_LENGTH,), dtype=tf.int32)\n",
        "    \n",
        "    q_atn = tf.keras.layers.Input((MAX_SEQUENCE_LENGTH,), dtype=tf.int32)\n",
        "    a_atn = tf.keras.layers.Input((MAX_SEQUENCE_LENGTH,), dtype=tf.int32)\n",
        "    \n",
        "    config = BertConfig() # print(config) to see settings\n",
        "    config.output_hidden_states = False # Set to True to obtain hidden states\n",
        "    # caution: when using e.g. XLNet, XLNetConfig() will automatically use xlnet-large config\n",
        "    \n",
        "    bert_model = TFBertModel.from_pretrained('bert-base-uncased', config=config)\n",
        "    \n",
        "    # if config.output_hidden_states = True, obtain hidden states via bert_model(...)[-1]\n",
        "    q_embedding = bert_model(q_id, attention_mask=q_mask, token_type_ids=q_atn)[0]\n",
        "    a_embedding = bert_model(a_id, attention_mask=a_mask, token_type_ids=a_atn)[0]\n",
        "    \n",
        "    q = tf.keras.layers.GlobalAveragePooling1D()(q_embedding)\n",
        "    a = tf.keras.layers.GlobalAveragePooling1D()(a_embedding)\n",
        "    \n",
        "#     x = tf.keras.layers.Concatenate()([q, q])\n",
        "    \n",
        "    x = tf.keras.layers.Dropout(0.2)(q)\n",
        "    \n",
        "    x = tf.keras.layers.Dense(TARGET_COUNT, activation='sigmoid')(x)\n",
        "\n",
        "    model = tf.keras.models.Model(inputs=[q_id, q_mask, q_atn, ], outputs=x)\n",
        "    \n",
        "    return model"
      ],
      "execution_count": 15,
      "outputs": []
    },
    {
      "cell_type": "markdown",
      "metadata": {
        "id": "ATG_llkg0OJ6",
        "colab_type": "text"
      },
      "source": [
        "#### 4. Obtain inputs and targets, as well as the indices of the train/validation splits"
      ]
    },
    {
      "cell_type": "code",
      "metadata": {
        "id": "POOlgYZJ0OJ7",
        "colab_type": "code",
        "colab": {
          "base_uri": "https://localhost:8080/",
          "height": 34
        },
        "outputId": "2d3b67ee-f640-4a80-d93e-5672e722c6c0"
      },
      "source": [
        "output_categories"
      ],
      "execution_count": 13,
      "outputs": [
        {
          "output_type": "execute_result",
          "data": {
            "text/plain": [
              "['humor']"
            ]
          },
          "metadata": {
            "tags": []
          },
          "execution_count": 13
        }
      ]
    },
    {
      "cell_type": "markdown",
      "metadata": {
        "id": "jA6cmH-W0OJ8",
        "colab_type": "text"
      },
      "source": [
        "## 5. Training, validation and testing\n",
        "\n",
        "Loops over the folds in gkf and trains each fold for 3 epochs --- with a learning rate of 3e-5 and batch_size of 6. A simple binary crossentropy is used as the objective-/loss-function. "
      ]
    },
    {
      "cell_type": "code",
      "metadata": {
        "id": "1_oInQ5k0OJ8",
        "colab_type": "code",
        "colab": {
          "base_uri": "https://localhost:8080/",
          "height": 255
        },
        "outputId": "0e92d37e-69da-4307-8484-6070e6376535"
      },
      "source": [
        "# Evaluation Metrics\n",
        "import sklearn\n",
        "def print_evaluation_metrics(y_true, y_pred, label='', is_regression=True, label2=''):\n",
        "    print('==================', label2)\n",
        "    ### For regression\n",
        "    if is_regression:\n",
        "        print('mean_absolute_error',label,':', sklearn.metrics.mean_absolute_error(y_true, y_pred))\n",
        "        print('mean_squared_error',label,':', sklearn.metrics.mean_squared_error(y_true, y_pred))\n",
        "        print('r2 score',label,':', sklearn.metrics.r2_score(y_true, y_pred))\n",
        "        #     print('max_error',label,':', sklearn.metrics.max_error(y_true, y_pred))\n",
        "        return sklearn.metrics.mean_squared_error(y_true, y_pred)\n",
        "    else:\n",
        "        ### FOR Classification\n",
        "        print('balanced_accuracy_score',label,':', sklearn.metrics.balanced_accuracy_score(y_true, y_pred))\n",
        "        print('average_precision_score',label,':', sklearn.metrics.average_precision_score(y_true, y_pred))\n",
        "        print('balanced_accuracy_score',label,':', sklearn.metrics.balanced_accuracy_score(y_true, y_pred))\n",
        "        print('accuracy_score',label,':', sklearn.metrics.accuracy_score(y_true, y_pred))\n",
        "        print('f1_score',label,':', sklearn.metrics.f1_score(y_true, y_pred))\n",
        "        \n",
        "        matrix = sklearn.metrics.confusion_matrix(y_true, y_pred)\n",
        "        print(matrix)\n",
        "        TP,TN,FP,FN = matrix[1][1],matrix[0][0],matrix[0][1],matrix[1][0]\n",
        "        Accuracy = (TP+TN)/(TP+FP+FN+TN)\n",
        "        Precision = TP/(TP+FP)\n",
        "        Recall = TP/(TP+FN)\n",
        "        F1 = 2*(Recall * Precision) / (Recall + Precision)\n",
        "        print('Acc', Accuracy, 'Prec', Precision, 'Rec', Recall, 'F1',F1)\n",
        "        return sklearn.metrics.accuracy_score(y_true, y_pred)\n",
        "\n",
        "print_evaluation_metrics([1,0], [0.9,0.1], '', True)\n",
        "print_evaluation_metrics([1,0], [1,1], '', False)"
      ],
      "execution_count": 16,
      "outputs": [
        {
          "output_type": "stream",
          "text": [
            "================== \n",
            "mean_absolute_error  : 0.09999999999999999\n",
            "mean_squared_error  : 0.009999999999999998\n",
            "r2 score  : 0.96\n",
            "================== \n",
            "balanced_accuracy_score  : 0.5\n",
            "average_precision_score  : 0.5\n",
            "balanced_accuracy_score  : 0.5\n",
            "accuracy_score  : 0.5\n",
            "f1_score  : 0.6666666666666666\n",
            "[[0 1]\n",
            " [0 1]]\n",
            "Acc 0.5 Prec 0.5 Rec 1.0 F1 0.6666666666666666\n"
          ],
          "name": "stdout"
        },
        {
          "output_type": "execute_result",
          "data": {
            "text/plain": [
              "0.5"
            ]
          },
          "metadata": {
            "tags": []
          },
          "execution_count": 16
        }
      ]
    },
    {
      "cell_type": "markdown",
      "metadata": {
        "id": "aumPZhcJ0OJ9",
        "colab_type": "text"
      },
      "source": [
        "### Loss function selection\n",
        "Regression problem between 0 and 1, so binary_crossentropy and mean_absolute_error seem good.\n",
        "\n",
        "Here are the explanations: https://www.dlology.com/blog/how-to-choose-last-layer-activation-and-loss-function/"
      ]
    },
    {
      "cell_type": "code",
      "metadata": {
        "scrolled": false,
        "id": "zLoSTCyL0OJ-",
        "colab_type": "code",
        "colab": {
          "base_uri": "https://localhost:8080/",
          "height": 343
        },
        "outputId": "e9ee70ce-512c-42f2-c764-73abc4581d0a"
      },
      "source": [
        "min_acc = 1000000\n",
        "min_test = []\n",
        "valid_preds = []\n",
        "test_preds = []\n",
        "best_model = False\n",
        "for LR in np.arange(1e-5, 2e-5, 3e-5).tolist():\n",
        "    print('>>>>>>>>>>>>>>>>>>>>>>>>>>>>>>>>>>>>>')\n",
        "    print('LR=', LR)\n",
        "    gkf = GroupKFold(n_splits=5).split(X=df_train.text, groups=df_train.text)\n",
        "\n",
        "    for fold, (train_idx, valid_idx) in enumerate(gkf):\n",
        "        if fold not in range(running_folds):\n",
        "            continue\n",
        "        train_inputs = [(inputs[i][train_idx])[:training_sample_count] for i in range(len(inputs))]\n",
        "        train_outputs = (outputs[train_idx])[:training_sample_count]\n",
        "\n",
        "        valid_inputs = [inputs[i][valid_idx] for i in range(len(inputs))]\n",
        "        valid_outputs = outputs[valid_idx]\n",
        "\n",
        "        print(np.array(train_inputs).shape, np.array(train_outputs).shape)\n",
        "#         print(train_idx[:10], valid_idx[:10])\n",
        "\n",
        "        K.clear_session()\n",
        "        model = create_model()\n",
        "        optimizer = tf.keras.optimizers.Adam(learning_rate=LR)\n",
        "        model.compile(loss='binary_crossentropy', optimizer=optimizer)\n",
        "        for xx in range(1):\n",
        "            model.fit(train_inputs, train_outputs, epochs=training_epochs, batch_size=32)\n",
        "            # model.save_weights(f'bert-{fold}.h5')\n",
        "            valid_preds.append(model.predict(valid_inputs))\n",
        "            #rho_val = compute_spearmanr_ignore_nan(valid_outputs, valid_preds[-1])\n",
        "            #print('validation score = ', rho_val)\n",
        "            acc = print_evaluation_metrics(np.array(valid_outputs), np.array(valid_preds[-1]), 'on #'+str(xx+1))\n",
        "            if acc < min_acc:\n",
        "                print('new acc >> ', acc)\n",
        "                min_acc = acc\n",
        "                best_model = model\n",
        "#                 min_test = model.predict(test_inputs)\n",
        "#                 test_preds.append(min_test)\n",
        "            print(' ')"
      ],
      "execution_count": 60,
      "outputs": [
        {
          "output_type": "stream",
          "text": [
            ">>>>>>>>>>>>>>>>>>>>>>>>>>>>>>>>>>>>>\n",
            "LR= 1e-05\n",
            "(6, 26733, 200) (26733, 1)\n",
            "WARNING:tensorflow:Gradients do not exist for variables ['tf_bert_model/bert/pooler/dense/kernel:0', 'tf_bert_model/bert/pooler/dense/bias:0'] when minimizing the loss.\n"
          ],
          "name": "stdout"
        },
        {
          "output_type": "stream",
          "text": [
            "WARNING:tensorflow:Gradients do not exist for variables ['tf_bert_model/bert/pooler/dense/kernel:0', 'tf_bert_model/bert/pooler/dense/bias:0'] when minimizing the loss.\n"
          ],
          "name": "stderr"
        },
        {
          "output_type": "stream",
          "text": [
            "WARNING:tensorflow:Gradients do not exist for variables ['tf_bert_model/bert/pooler/dense/kernel:0', 'tf_bert_model/bert/pooler/dense/bias:0'] when minimizing the loss.\n"
          ],
          "name": "stdout"
        },
        {
          "output_type": "stream",
          "text": [
            "WARNING:tensorflow:Gradients do not exist for variables ['tf_bert_model/bert/pooler/dense/kernel:0', 'tf_bert_model/bert/pooler/dense/bias:0'] when minimizing the loss.\n"
          ],
          "name": "stderr"
        },
        {
          "output_type": "stream",
          "text": [
            "WARNING:tensorflow:Gradients do not exist for variables ['tf_bert_model/bert/pooler/dense/kernel:0', 'tf_bert_model/bert/pooler/dense/bias:0'] when minimizing the loss.\n"
          ],
          "name": "stdout"
        },
        {
          "output_type": "stream",
          "text": [
            "WARNING:tensorflow:Gradients do not exist for variables ['tf_bert_model/bert/pooler/dense/kernel:0', 'tf_bert_model/bert/pooler/dense/bias:0'] when minimizing the loss.\n"
          ],
          "name": "stderr"
        },
        {
          "output_type": "stream",
          "text": [
            "WARNING:tensorflow:Gradients do not exist for variables ['tf_bert_model/bert/pooler/dense/kernel:0', 'tf_bert_model/bert/pooler/dense/bias:0'] when minimizing the loss.\n"
          ],
          "name": "stdout"
        },
        {
          "output_type": "stream",
          "text": [
            "WARNING:tensorflow:Gradients do not exist for variables ['tf_bert_model/bert/pooler/dense/kernel:0', 'tf_bert_model/bert/pooler/dense/bias:0'] when minimizing the loss.\n"
          ],
          "name": "stderr"
        },
        {
          "output_type": "stream",
          "text": [
            "836/836 [==============================] - 1134s 1s/step - loss: 0.2719\n",
            "================== \n",
            "mean_absolute_error on #1 : 0.18362048\n",
            "mean_squared_error on #1 : 0.12524913\n",
            "r2 score on #1 : 0.482660318598511\n",
            "new acc >>  0.12524913\n",
            " \n"
          ],
          "name": "stdout"
        }
      ]
    },
    {
      "cell_type": "code",
      "metadata": {
        "id": "bN988ZdwDg1H",
        "colab_type": "code",
        "colab": {
          "base_uri": "https://localhost:8080/",
          "height": 122
        },
        "outputId": "efd4576b-e73e-4b1b-c476-80e13056c18a"
      },
      "source": [
        "#mounting google drive\n",
        "from google.colab import drive\n",
        "drive.mount('/content/drive')"
      ],
      "execution_count": 19,
      "outputs": [
        {
          "output_type": "stream",
          "text": [
            "Go to this URL in a browser: https://accounts.google.com/o/oauth2/auth?client_id=947318989803-6bn6qk8qdgf4n4g3pfee6491hc0brc4i.apps.googleusercontent.com&redirect_uri=urn%3aietf%3awg%3aoauth%3a2.0%3aoob&response_type=code&scope=email%20https%3a%2f%2fwww.googleapis.com%2fauth%2fdocs.test%20https%3a%2f%2fwww.googleapis.com%2fauth%2fdrive%20https%3a%2f%2fwww.googleapis.com%2fauth%2fdrive.photos.readonly%20https%3a%2f%2fwww.googleapis.com%2fauth%2fpeopleapi.readonly\n",
            "\n",
            "Enter your authorization code:\n",
            "··········\n",
            "Mounted at /content/drive\n"
          ],
          "name": "stdout"
        }
      ]
    },
    {
      "cell_type": "code",
      "metadata": {
        "id": "-kBnvlFgFM_w",
        "colab_type": "code",
        "colab": {}
      },
      "source": [
        "#preparing conference call data\n",
        "df_test=pd.read_csv('/content/drive/My Drive/bysentence.csv')\n",
        "df_test=df_test.drop(columns=['Unnamed: 0'])\n",
        "df_test.columns=['text','conference','group']"
      ],
      "execution_count": 20,
      "outputs": []
    },
    {
      "cell_type": "code",
      "metadata": {
        "id": "owU-TX410OKA",
        "colab_type": "code",
        "colab": {}
      },
      "source": [
        "#creating sample of data\n",
        "df_small=df_test.iloc[:20000].copy()"
      ],
      "execution_count": 21,
      "outputs": []
    },
    {
      "cell_type": "code",
      "metadata": {
        "id": "KhIf0KkA0OKB",
        "colab_type": "code",
        "colab": {
          "base_uri": "https://localhost:8080/",
          "height": 66,
          "referenced_widgets": [
            "f67784d1b8d948d880ebe6f5925734c3",
            "8daed72440604387b6cb8cf121ec2eff",
            "616c839fc13a45c582faac7ef861a260",
            "4d75b8dbeaa843799350a66f1980b8d9",
            "a860db5bc24b41bab38b26295d8bd7c7",
            "0b1681fc1e00462c8e890519d9aba5f0",
            "f8be2fbe3ac142b1ba78f0793e59bf02",
            "0d38cdc4cd2049d18d93af322d65a8df"
          ]
        },
        "outputId": "af6903da-cda9-47f2-f7e5-0a94449b0116"
      },
      "source": [
        "#computing input array\n",
        "test_inputs2 = compute_input_arrays(df_small, input_categories, tokenizer, MAX_SEQUENCE_LENGTH)"
      ],
      "execution_count": 22,
      "outputs": [
        {
          "output_type": "display_data",
          "data": {
            "application/vnd.jupyter.widget-view+json": {
              "model_id": "f67784d1b8d948d880ebe6f5925734c3",
              "version_minor": 0,
              "version_major": 2
            },
            "text/plain": [
              "HBox(children=(FloatProgress(value=1.0, bar_style='info', max=1.0), HTML(value='')))"
            ]
          },
          "metadata": {
            "tags": []
          }
        },
        {
          "output_type": "stream",
          "text": [
            "\n"
          ],
          "name": "stdout"
        }
      ]
    },
    {
      "cell_type": "code",
      "metadata": {
        "id": "ebdpCiPw0OKC",
        "colab_type": "code",
        "colab": {}
      },
      "source": [
        "#testing sample\n",
        "# %%time\n",
        "min_test2 = best_model.predict(test_inputs2)"
      ],
      "execution_count": 61,
      "outputs": []
    },
    {
      "cell_type": "code",
      "metadata": {
        "id": "O85jJHz-0OKE",
        "colab_type": "code",
        "colab": {}
      },
      "source": [
        "#joining sample to tested and then saving to drive as a csv\n",
        "min_test2=pd.DataFrame(min_test2)\n",
        "test_df=pd.concat([min_test2, df_small], axis=1, sort=False)\n",
        "high_humor=test_df[test_df[0]>.9]\n",
        "high_humor.to_csv('/content/drive/My Drive/high_humor9.csv')"
      ],
      "execution_count": 64,
      "outputs": []
    },
    {
      "cell_type": "markdown",
      "metadata": {
        "id": "k17z-8ob0OKq",
        "colab_type": "text"
      },
      "source": [
        "## Regression submission"
      ]
    },
    {
      "cell_type": "code",
      "metadata": {
        "id": "RREATZBi0OKq",
        "colab_type": "code",
        "colab": {}
      },
      "source": [
        "df_sub = test_df_y.copy()\n",
        "# df_sub['pred'] = np.average(test_preds, axis=0) # for weighted average set weights=[...]\n",
        "\n",
        "df_sub['pred'] = min_test\n",
        "\n",
        "\n",
        "print_evaluation_metrics(df_sub['humor'], df_sub['pred'], '', True)\n",
        "\n",
        "\n",
        "df_sub.to_csv('sub1.csv', index=False)\n",
        "df_sub.head()"
      ],
      "execution_count": null,
      "outputs": []
    },
    {
      "cell_type": "markdown",
      "metadata": {
        "id": "gY0GbTXL0OKr",
        "colab_type": "text"
      },
      "source": [
        "## Binary submission"
      ]
    },
    {
      "cell_type": "code",
      "metadata": {
        "id": "ACFGI0LS0OKr",
        "colab_type": "code",
        "colab": {}
      },
      "source": [
        "for split in np.arange(0.1, 0.99, 0.1).tolist():\n",
        "    df_sub['pred_bi'] = (df_sub['pred'] > split)\n",
        "\n",
        "    print_evaluation_metrics(df_sub['humor'], df_sub['pred_bi'], '', False, 'SPLIT on '+str(split))\n",
        "\n",
        "    df_sub.to_csv('sub3.csv', index=False)\n",
        "    df_sub.head()"
      ],
      "execution_count": null,
      "outputs": []
    },
    {
      "cell_type": "code",
      "metadata": {
        "id": "gljGCjk80OKs",
        "colab_type": "code",
        "colab": {}
      },
      "source": [
        ""
      ],
      "execution_count": null,
      "outputs": []
    }
  ]
}